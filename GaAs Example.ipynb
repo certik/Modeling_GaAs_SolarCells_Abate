{
 "cells": [
  {
   "cell_type": "markdown",
   "metadata": {},
   "source": [
    "# GaAs Solver\n",
    "\n",
    "This notebook shows how to run the `Modeling_GaAs_SolarCells_1D_equation` module and produce a plot."
   ]
  },
  {
   "cell_type": "code",
   "execution_count": null,
   "metadata": {
    "collapsed": false
   },
   "outputs": [],
   "source": [
    "%pylab inline"
   ]
  },
  {
   "cell_type": "code",
   "execution_count": null,
   "metadata": {
    "collapsed": true
   },
   "outputs": [],
   "source": [
    "from Modeling_GaAs_SolarCells_1D_equation import GaAsSolver"
   ]
  },
  {
   "cell_type": "code",
   "execution_count": null,
   "metadata": {
    "collapsed": false
   },
   "outputs": [],
   "source": [
    "gas = GaAsSolver()\n",
    "gas.compute_potentials()    \n",
    "gas.compute_depwdz()\n",
    "gas.get_dopingcc()\n",
    "gas.init_bcnds()\n",
    "gas.solve()\n",
    "gas.plot_res()"
   ]
  }
 ],
 "metadata": {
  "kernelspec": {
   "display_name": "Python 2",
   "language": "python",
   "name": "python2"
  },
  "language_info": {
   "codemirror_mode": {
    "name": "ipython",
    "version": 2
   },
   "file_extension": ".py",
   "mimetype": "text/x-python",
   "name": "python",
   "nbconvert_exporter": "python",
   "pygments_lexer": "ipython2",
   "version": "2.7.12"
  }
 },
 "nbformat": 4,
 "nbformat_minor": 1
}
